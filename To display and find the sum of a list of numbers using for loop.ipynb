{
 "cells": [
  {
   "cell_type": "markdown",
   "id": "bf6e055c-cf38-4e7d-b3b7-c3e7ca1be721",
   "metadata": {},
   "source": [
    "**Write a python program to display and find the sum of a list of numbers using for loop**"
   ]
  },
  {
   "cell_type": "code",
   "execution_count": 1,
   "id": "6e685a69-29c1-4281-a9c1-2a9dc2687713",
   "metadata": {},
   "outputs": [],
   "source": [
    "#Take a list of numbers\n",
    "list=[5,6,50,60,55,66]"
   ]
  },
  {
   "cell_type": "code",
   "execution_count": 2,
   "id": "e70c976b-d75e-4b72-b805-4245e1ad6d2e",
   "metadata": {},
   "outputs": [],
   "source": [
    "#initialing sum vaiable to 0\n",
    "sum=0"
   ]
  },
  {
   "cell_type": "code",
   "execution_count": 3,
   "id": "21b61a3f-6025-4269-9684-b69dd65f8308",
   "metadata": {},
   "outputs": [
    {
     "name": "stdout",
     "output_type": "stream",
     "text": [
      "5\n",
      "6\n",
      "50\n",
      "60\n",
      "55\n",
      "66\n",
      "The sum value of all the elements present in the list is = 242\n"
     ]
    }
   ],
   "source": [
    "#using a for loop to display the element\n",
    "for i in list:\n",
    "    print(i) #displaying each element present in the list\n",
    "    sum=sum+i #add each element to the sum\n",
    "print(\"The sum value of all the elements present in the list is = {}\".format(sum)) # Displaying the total sum after adding of all the elements present in the list"
   ]
  },
  {
   "cell_type": "code",
   "execution_count": null,
   "id": "a6275fab-0a2b-4e0a-a261-09ddf49509be",
   "metadata": {},
   "outputs": [],
   "source": []
  },
  {
   "cell_type": "code",
   "execution_count": null,
   "id": "6bc30013-28aa-4796-b387-a3dd875d1497",
   "metadata": {},
   "outputs": [],
   "source": []
  },
  {
   "cell_type": "code",
   "execution_count": null,
   "id": "ca468f94-4ddd-4063-9c4d-c6d3b30f049f",
   "metadata": {},
   "outputs": [],
   "source": []
  },
  {
   "cell_type": "code",
   "execution_count": null,
   "id": "b2ca766a-b572-4475-99be-979827b1f726",
   "metadata": {},
   "outputs": [],
   "source": []
  },
  {
   "cell_type": "code",
   "execution_count": null,
   "id": "91b17a60-3b42-4693-83b9-1aa36acafc49",
   "metadata": {},
   "outputs": [],
   "source": []
  },
  {
   "cell_type": "code",
   "execution_count": null,
   "id": "d55c456d-2372-4baa-a28c-e0af4d7667a7",
   "metadata": {},
   "outputs": [],
   "source": []
  },
  {
   "cell_type": "code",
   "execution_count": null,
   "id": "06f192f5-10f9-4fe3-9d53-7e0d0c60e9cf",
   "metadata": {},
   "outputs": [],
   "source": []
  },
  {
   "cell_type": "code",
   "execution_count": null,
   "id": "20016060-65e5-4505-af8f-04c3f17e8210",
   "metadata": {},
   "outputs": [],
   "source": []
  },
  {
   "cell_type": "code",
   "execution_count": null,
   "id": "e930e613-cca8-4c32-96ef-d200ed0cb88d",
   "metadata": {},
   "outputs": [],
   "source": []
  }
 ],
 "metadata": {
  "kernelspec": {
   "display_name": "Python 3 (ipykernel)",
   "language": "python",
   "name": "python3"
  },
  "language_info": {
   "codemirror_mode": {
    "name": "ipython",
    "version": 3
   },
   "file_extension": ".py",
   "mimetype": "text/x-python",
   "name": "python",
   "nbconvert_exporter": "python",
   "pygments_lexer": "ipython3",
   "version": "3.12.7"
  }
 },
 "nbformat": 4,
 "nbformat_minor": 5
}
